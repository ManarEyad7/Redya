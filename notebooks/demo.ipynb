{
 "cells": [
  {
   "cell_type": "code",
   "execution_count": 1,
   "metadata": {},
   "outputs": [],
   "source": [
    "import os\n",
    "os.environ['TF_CPP_MIN_LOG_LEVEL'] = '3' "
   ]
  },
  {
   "cell_type": "code",
   "execution_count": 2,
   "metadata": {},
   "outputs": [
    {
     "name": "stdout",
     "output_type": "stream",
     "text": [
      "C:\\Users\\HP\\OneDrive\\Documents\\GitHub\\Ashaar\n"
     ]
    }
   ],
   "source": [
    "%cd C:/Users/HP/OneDrive/Documents/GitHub/Ashaar"
   ]
  },
  {
   "cell_type": "code",
   "execution_count": 3,
   "metadata": {},
   "outputs": [
    {
     "name": "stderr",
     "output_type": "stream",
     "text": [
      "c:\\Users\\HP\\AppData\\Local\\Programs\\Python\\Python311\\Lib\\site-packages\\sentence_transformers\\cross_encoder\\CrossEncoder.py:13: TqdmWarning: IProgress not found. Please update jupyter and ipywidgets. See https://ipywidgets.readthedocs.io/en/stable/user_install.html\n",
      "  from tqdm.autonotebook import tqdm, trange\n"
     ]
    },
    {
     "name": "stdout",
     "output_type": "stream",
     "text": [
      "jjjjjjjjjjjjjjjjjjjjjjjjjjjjj\n"
     ]
    }
   ],
   "source": [
    "from Ashaar.bait_analysis import BaitAnalysis"
   ]
  },
  {
   "cell_type": "code",
   "execution_count": 7,
   "metadata": {},
   "outputs": [
    {
     "data": {
      "text/plain": [
       "['سلام الله عليكم عد مايبـدي الـورق فالعـود # نبـا منـك السوالـف وانـت يامسـتـور هذبـهـا',\n",
       " 'علامك يالعصيمي تختلف فالوعد والموعود # وانـا خابـر وراك رجـال تفتـل فـي شواربـهـا']"
      ]
     },
     "execution_count": 7,
     "metadata": {},
     "output_type": "execute_result"
    }
   ],
   "source": [
    "baits"
   ]
  },
  {
   "cell_type": "code",
   "execution_count": 4,
   "metadata": {
    "colab": {
     "base_uri": "https://localhost:8080/",
     "height": 443,
     "referenced_widgets": [
      "8150f3cb16f84641ae77210778909c50",
      "e3b29c06fefc49209ebbe3cc3c0968a1",
      "8419ec43b7ac492e98eee9f987a49b79",
      "a82bbc7d99604777a9f7768e6a5d2229",
      "8a9899138564441ebbb4a1c1ee8fdb30",
      "625202fec06a40e7877407bc921859dd",
      "ae58202f0d1946c69f5ad8af52e20dbe",
      "2f0de23bd3084a029613a2ddd592eaea",
      "5a1361b8edc94f53861bdbc3ced7e6e6",
      "1e15652e4d6b4d38ad2606b856996eac",
      "ff9fabec88df487b979d2f03fd02633b",
      "a7848a78822e407783e228816e3635f5",
      "a12090245e6545c48f9869ccbf7bbbfa",
      "067b226cb0b3462e89b48f07817aabff",
      "a8e493d559234d92b2c066e7fc540500",
      "9c467e6a53484671b4cd80b4d1827fd0",
      "734e55cddf0040098aebeef67c1b9616",
      "5521b56374fb4f0cb1c2ae40564153fc",
      "6488c248867440789f406503d32fc3fe",
      "b68c439b0c3e4341945980dd626afbd9",
      "423557024f1749e1b0f34f854c3c9eb7",
      "fb477c09b86d45ae889478bb76b3cfd4",
      "57d8f2f0a008468b9faf76406aacb152",
      "eaf3ed187791457fb600bb457bd3e63c",
      "e6b88e8f2e01450bbc836a155d2d034f",
      "1b7e0c7ca4b349d289ffd3107b13f1a5",
      "ecc250c231f54d2fad049c34ed565592",
      "f5dced9bfb864dd292d269738c4ce8de",
      "755f5ce4b5bf4cff91a1ae4909837561",
      "1b2fcce366cf4097b4bfc550b37b48b4",
      "6fee7bd31d4e431696d8ee21acaf372d",
      "18c61c89649f4573add9252adc0beb8c",
      "8fe360c0233e4c349ed83d4f64d4941a"
     ]
    },
    "id": "8A7P_o1FkONy",
    "outputId": "56153958-47af-4832-8167-1c173d6674dc",
    "scrolled": false
   },
   "outputs": [],
   "source": [
    "user_input = input(\"أدخل الأبيات الشعرية:\\n\")"
   ]
  },
  {
   "cell_type": "code",
   "execution_count": 5,
   "metadata": {},
   "outputs": [],
   "source": [
    "baits = user_input.strip().split(\"  \")"
   ]
  },
  {
   "cell_type": "code",
   "execution_count": 8,
   "metadata": {},
   "outputs": [
    {
     "name": "stdout",
     "output_type": "stream",
     "text": [
      "Exporting the pretrained models ... \n",
      "File exists: deep-learning-models.zip\n",
      "load diacritization model ... \n",
      "./test.yml\n",
      "=============================\n",
      "WARNING: could not check git hash. 'git_hash'\n",
      "loading from ./deep-learning-models/log_dir_ashaar/ashaar_proc.base.cbhg/models/10000-snapshot.pt\n"
     ]
    },
    {
     "name": "stderr",
     "output_type": "stream",
     "text": [
      "C:\\Users\\HP\\OneDrive\\Documents\\GitHub\\Ashaar\\poetry_diacritizer\\predict.py:90: FutureWarning: You are using `torch.load` with `weights_only=False` (the current default value), which uses the default pickle module implicitly. It is possible to construct malicious pickle data which will execute arbitrary code during unpickling (See https://github.com/pytorch/pytorch/blob/main/SECURITY.md#untrusted-models for more details). In a future release, the default value for `weights_only` will be flipped to `True`. This limits the functions that could be executed during unpickling. Arbitrary objects will no longer be allowed to be loaded via this mode unless they are explicitly allowlisted by the user via `torch.serialization.add_safe_globals`. We recommend you start setting `weights_only=True` for any use case where you don't have full control of the loaded file. Please open an issue on GitHub for any issues related to this experimental feature.\n",
      "  saved_model = torch.load(last_model_path, torch.device(self.config.get(\"device\")))\n"
     ]
    },
    {
     "name": "stdout",
     "output_type": "stream",
     "text": [
      "./test.yml\n",
      "=============================\n",
      "load meter classification model ...\n",
      "load embedding model ...\n",
      "load era classification model ...\n",
      "load theme classification model ...\n",
      "1/1 [==============================] - 10s 10s/step\n",
      "1/1 [==============================] - 0s 108ms/step\n",
      "1/1 [==============================] - 4s 4s/step\n",
      "1/1 [==============================] - 4s 4s/step\n",
      "1/1 [==============================] - 4s 4s/step\n"
     ]
    }
   ],
   "source": [
    "analysis = BaitAnalysis()"
   ]
  },
  {
   "cell_type": "code",
   "execution_count": 10,
   "metadata": {},
   "outputs": [
    {
     "name": "stdout",
     "output_type": "stream",
     "text": [
      "1/1 [==============================] - 0s 125ms/step\n",
      "1/1 [==============================] - 0s 101ms/step\n",
      "1/1 [==============================] - 0s 110ms/step\n",
      "1/1 [==============================] - 0s 98ms/step\n",
      "1/1 [==============================] - 0s 89ms/step\n"
     ]
    }
   ],
   "source": [
    "output = analysis.analyze(baits,override_tashkeel=True)"
   ]
  },
  {
   "cell_type": "code",
   "execution_count": 18,
   "metadata": {},
   "outputs": [
    {
     "data": {
      "text/plain": [
       "['سلام الله عليكم عد مايبـدي الـورق فالعـود # نبـا منـك السوالـف وانـت يامسـتـور هذبـهـا',\n",
       " 'علامك يالعصيمي تختلف فالوعد والموعود # وانـا خابـر وراك رجـال تفتـل فـي شواربـهـا']"
      ]
     },
     "execution_count": 18,
     "metadata": {},
     "output_type": "execute_result"
    }
   ],
   "source": [
    "baits"
   ]
  },
  {
   "cell_type": "code",
   "execution_count": 11,
   "metadata": {},
   "outputs": [
    {
     "data": {
      "text/plain": [
       "{'diacritized': ['سَلَامَ اللَّهِ عَلَيْكُمْ عُدُ مَايَبْدِي الْوَرَقُ فَالعُودُ # نَبًّا مِنْكَ السَّوَالِفَ وَانْتِ يَامَسْتُورُ هَذْبُهَا',\n",
       "  'عَلامُكَ يالعْصِيمِيُّ تَختَلِفُ فَالوَعْدُ وَالمَوْعُودُ # وَانَا خَابِرْ وَرَاكَ رِجَالٌ تَفَتَّلُّ فِي شَوَارِبِهَا'],\n",
       " 'arudi_style': [('سلام للاه عليكم عد مايبدلورق فلعودو',\n",
       "   '110101011101011101010111101010'),\n",
       "  ('نببن منك سسوالف ونت يامستور هذبها', '1010101011011101101010110110'),\n",
       "  ('عامك عصيميي تختلف فلوعد ولموعودو', '1011010101101111010110101010'),\n",
       "  ('وانا خابر وراك رجالن تفتتلل في شواربها',\n",
       "   '10101010110111010110101101101110')],\n",
       " 'patterns_mismatches': ['R1R1R0R1R0R1R0R1R1R1R0R1R0R1R1R1R0R1R0R1R0R1R1R1R1R0R1R0R1R0',\n",
       "  'R1R0R1R0R1R0R1R0R1R1R0R1R1R1R0R1R1R0R1R0R1R0R1R1R0R1R1R0',\n",
       "  'R1R0R1R1R0R1R0R1R0R1R1R0R1R1R1R1R0R1R0R1R1R0R1R0R1R0R1R0',\n",
       "  'R1R0R1R0R1R0R1R0R1R1R0R1R1R1R0R1R0R1R1R0R1R0R1R1R0R1R1R0R1R1R1R0'],\n",
       " 'qafiyah': ('ب', 'قافية بحرف الروي: ب ،  زاد لها الوصل بـ: ه والخَروج'),\n",
       " 'meter': 'نثر',\n",
       " 'closest_baits': [[('وَمِثْلُ الْفُرُشِ الْبَلَاطُ فَإِنْ خَشِيَهُ وَلَوْ # بِقَطْرَةٍ قَطَعَ صَوْنًا لَهُ مِنْ النَّجَاسَةِ',\n",
       "    [0.8060393333435059])],\n",
       "  [('عَلَى أَمَلِ أَنْ يَفِيَ المَسْؤُولُونَ # بِبَقِيَّةِ وُعُودِهِم فِي أَقْرَبِ فُرْصَةٍ مُمْكِنَةٍ',\n",
       "    [0.8549192547798157])]],\n",
       " 'era': ['العصر الحديث', 'العصر العثماني'],\n",
       " 'closest_patterns': [('', 0.0, ''),\n",
       "  ('', 0.0, ''),\n",
       "  ('', 0.0, ''),\n",
       "  ('', 0.0, '')],\n",
       " 'theme': ['قصيدة مدح']}"
      ]
     },
     "execution_count": 11,
     "metadata": {},
     "output_type": "execute_result"
    }
   ],
   "source": [
    "output"
   ]
  },
  {
   "cell_type": "code",
   "execution_count": 12,
   "metadata": {
    "colab": {
     "base_uri": "https://localhost:8080/",
     "height": 258
    },
    "id": "z0B9uHYgX-mE",
    "outputId": "c1de544a-ab2c-4a13-d115-29d6b26a087e",
    "scrolled": true
   },
   "outputs": [
    {
     "data": {
      "text/html": [
       "\n",
       "    <html>\n",
       "    <head>\n",
       "    <style>\n",
       "    table {\n",
       "      font-family: arial, sans-serif;\n",
       "      border-collapse: collapse;\n",
       "      width: 100%;\n",
       "    }\n",
       "    \n",
       "    td, th {\n",
       "      border: 1px solid #dddddd;\n",
       "      padding: 3px;\n",
       "    }\n",
       "    \n",
       "    tr:nth-child(even) {\n",
       "      background-color: #b7b7b7;\n",
       "    }\n",
       "    </style>\n",
       "    </head>\n",
       "\n",
       "    <table dir=\"rtl\">\n",
       "        <thead>\n",
       "            <th style='text-align:center'> المشكل </th><th style='text-align:center'> الكتابة العروضية </th><th style='text-align:center'> التفعيله </th><th style='text-align:center'> النمط </th>\n",
       "        </thead>\n",
       "    <tbody><tr><td style='text-align:center'> أَلا لَيْتَ شِعْرِي هَلْ أَبَيْتَنَّ لَيْلَةً </td><td style='text-align:center'> ألا ليت شعري هل أبيتنن ليلتن </td><td style='text-align:center'> عولنْ مفاعيلنْ فعولنْ مفاعلنْ </td><td style='text-align:center'> <span style=\"color: #36AE7C\">1</span><span style=\"color: #36AE7C\">0</span><span style=\"color: #EB5353\">1</span><span style=\"color: #36AE7C\">1</span><span style=\"color: #36AE7C\">0</span><span style=\"color: #36AE7C\">1</span><span style=\"color: #36AE7C\">1</span><span style=\"color: #36AE7C\">0</span><span style=\"color: #36AE7C\">1</span><span style=\"color: #36AE7C\">0</span><span style=\"color: #36AE7C\">1</span><span style=\"color: #36AE7C\">0</span><span style=\"color: #36AE7C\">1</span><span style=\"color: #36AE7C\">1</span><span style=\"color: #36AE7C\">0</span><span style=\"color: #36AE7C\">1</span><span style=\"color: #36AE7C\">0</span><span style=\"color: #36AE7C\">1</span><span style=\"color: #36AE7C\">1</span><span style=\"color: #36AE7C\">0</span><span style=\"color: #36AE7C\">1</span><span style=\"color: #36AE7C\">1</span><span style=\"color: #36AE7C\">0</span> </td></tr><tr><td style='text-align:center'> بِجَنْبِ الْغَضَى أَزُجَيَّ الْقَلَاصِ النَّوَاجِيَا </td><td style='text-align:center'> بجنب لغضى أزجيي لقلاص ننواجيا </td><td style='text-align:center'> فعولنْ مفاعيلنْ فعولنْ مفاعلنْ </td><td style='text-align:center'> <span style=\"color: #36AE7C\">1</span><span style=\"color: #36AE7C\">1</span><span style=\"color: #36AE7C\">0</span><span style=\"color: #36AE7C\">1</span><span style=\"color: #36AE7C\">0</span><span style=\"color: #36AE7C\">1</span><span style=\"color: #36AE7C\">1</span><span style=\"color: #36AE7C\">0</span><span style=\"color: #EB5353\">1</span><span style=\"color: #EB5353\">1</span><span style=\"color: #36AE7C\">1</span><span style=\"color: #36AE7C\">0</span><span style=\"color: #36AE7C\">1</span><span style=\"color: #36AE7C\">0</span><span style=\"color: #36AE7C\">1</span><span style=\"color: #36AE7C\">1</span><span style=\"color: #36AE7C\">0</span><span style=\"color: #36AE7C\">1</span><span style=\"color: #36AE7C\">0</span><span style=\"color: #36AE7C\">1</span><span style=\"color: #36AE7C\">1</span><span style=\"color: #36AE7C\">0</span><span style=\"color: #36AE7C\">1</span><span style=\"color: #36AE7C\">1</span><span style=\"color: #36AE7C\">0</span> </td></tr></tbody></table></html>"
      ],
      "text/plain": [
       "<IPython.core.display.HTML object>"
      ]
     },
     "execution_count": 12,
     "metadata": {},
     "output_type": "execute_result"
    }
   ],
   "source": [
    "from Ashaar.utils import get_output_df, get_highlighted_patterns_html\n",
    "from IPython.display import HTML\n",
    "df = get_output_df(output)\n",
    "HTML(get_highlighted_patterns_html(df))"
   ]
  }
 ],
 "metadata": {
  "accelerator": "GPU",
  "colab": {
   "collapsed_sections": [],
   "name": "Qawafi Colab Demo.ipynb",
   "provenance": []
  },
  "kernelspec": {
   "display_name": "Python 3",
   "language": "python",
   "name": "python3"
  },
  "language_info": {
   "codemirror_mode": {
    "name": "ipython",
    "version": 3
   },
   "file_extension": ".py",
   "mimetype": "text/x-python",
   "name": "python",
   "nbconvert_exporter": "python",
   "pygments_lexer": "ipython3",
   "version": "3.11.3"
  },
  "widgets": {
   "application/vnd.jupyter.widget-state+json": {
    "067b226cb0b3462e89b48f07817aabff": {
     "model_module": "@jupyter-widgets/controls",
     "model_module_version": "1.5.0",
     "model_name": "FloatProgressModel",
     "state": {
      "_dom_classes": [],
      "_model_module": "@jupyter-widgets/controls",
      "_model_module_version": "1.5.0",
      "_model_name": "FloatProgressModel",
      "_view_count": null,
      "_view_module": "@jupyter-widgets/controls",
      "_view_module_version": "1.5.0",
      "_view_name": "ProgressView",
      "bar_style": "success",
      "description": "",
      "description_tooltip": null,
      "layout": "IPY_MODEL_6488c248867440789f406503d32fc3fe",
      "max": 69,
      "min": 0,
      "orientation": "horizontal",
      "style": "IPY_MODEL_b68c439b0c3e4341945980dd626afbd9",
      "value": 69
     }
    },
    "18c61c89649f4573add9252adc0beb8c": {
     "model_module": "@jupyter-widgets/base",
     "model_module_version": "1.2.0",
     "model_name": "LayoutModel",
     "state": {
      "_model_module": "@jupyter-widgets/base",
      "_model_module_version": "1.2.0",
      "_model_name": "LayoutModel",
      "_view_count": null,
      "_view_module": "@jupyter-widgets/base",
      "_view_module_version": "1.2.0",
      "_view_name": "LayoutView",
      "align_content": null,
      "align_items": null,
      "align_self": null,
      "border": null,
      "bottom": null,
      "display": null,
      "flex": null,
      "flex_flow": null,
      "grid_area": null,
      "grid_auto_columns": null,
      "grid_auto_flow": null,
      "grid_auto_rows": null,
      "grid_column": null,
      "grid_gap": null,
      "grid_row": null,
      "grid_template_areas": null,
      "grid_template_columns": null,
      "grid_template_rows": null,
      "height": null,
      "justify_content": null,
      "justify_items": null,
      "left": null,
      "margin": null,
      "max_height": null,
      "max_width": null,
      "min_height": null,
      "min_width": null,
      "object_fit": null,
      "object_position": null,
      "order": null,
      "overflow": null,
      "overflow_x": null,
      "overflow_y": null,
      "padding": null,
      "right": null,
      "top": null,
      "visibility": null,
      "width": null
     }
    },
    "1b2fcce366cf4097b4bfc550b37b48b4": {
     "model_module": "@jupyter-widgets/base",
     "model_module_version": "1.2.0",
     "model_name": "LayoutModel",
     "state": {
      "_model_module": "@jupyter-widgets/base",
      "_model_module_version": "1.2.0",
      "_model_name": "LayoutModel",
      "_view_count": null,
      "_view_module": "@jupyter-widgets/base",
      "_view_module_version": "1.2.0",
      "_view_name": "LayoutView",
      "align_content": null,
      "align_items": null,
      "align_self": null,
      "border": null,
      "bottom": null,
      "display": null,
      "flex": null,
      "flex_flow": null,
      "grid_area": null,
      "grid_auto_columns": null,
      "grid_auto_flow": null,
      "grid_auto_rows": null,
      "grid_column": null,
      "grid_gap": null,
      "grid_row": null,
      "grid_template_areas": null,
      "grid_template_columns": null,
      "grid_template_rows": null,
      "height": null,
      "justify_content": null,
      "justify_items": null,
      "left": null,
      "margin": null,
      "max_height": null,
      "max_width": null,
      "min_height": null,
      "min_width": null,
      "object_fit": null,
      "object_position": null,
      "order": null,
      "overflow": null,
      "overflow_x": null,
      "overflow_y": null,
      "padding": null,
      "right": null,
      "top": null,
      "visibility": null,
      "width": null
     }
    },
    "1b7e0c7ca4b349d289ffd3107b13f1a5": {
     "model_module": "@jupyter-widgets/controls",
     "model_module_version": "1.5.0",
     "model_name": "HTMLModel",
     "state": {
      "_dom_classes": [],
      "_model_module": "@jupyter-widgets/controls",
      "_model_module_version": "1.5.0",
      "_model_name": "HTMLModel",
      "_view_count": null,
      "_view_module": "@jupyter-widgets/controls",
      "_view_module_version": "1.5.0",
      "_view_name": "HTMLView",
      "description": "",
      "description_tooltip": null,
      "layout": "IPY_MODEL_18c61c89649f4573add9252adc0beb8c",
      "placeholder": "​",
      "style": "IPY_MODEL_8fe360c0233e4c349ed83d4f64d4941a",
      "value": " 69/69 [00:04&lt;00:00, 15.13ba/s]"
     }
    },
    "1e15652e4d6b4d38ad2606b856996eac": {
     "model_module": "@jupyter-widgets/base",
     "model_module_version": "1.2.0",
     "model_name": "LayoutModel",
     "state": {
      "_model_module": "@jupyter-widgets/base",
      "_model_module_version": "1.2.0",
      "_model_name": "LayoutModel",
      "_view_count": null,
      "_view_module": "@jupyter-widgets/base",
      "_view_module_version": "1.2.0",
      "_view_name": "LayoutView",
      "align_content": null,
      "align_items": null,
      "align_self": null,
      "border": null,
      "bottom": null,
      "display": null,
      "flex": null,
      "flex_flow": null,
      "grid_area": null,
      "grid_auto_columns": null,
      "grid_auto_flow": null,
      "grid_auto_rows": null,
      "grid_column": null,
      "grid_gap": null,
      "grid_row": null,
      "grid_template_areas": null,
      "grid_template_columns": null,
      "grid_template_rows": null,
      "height": null,
      "justify_content": null,
      "justify_items": null,
      "left": null,
      "margin": null,
      "max_height": null,
      "max_width": null,
      "min_height": null,
      "min_width": null,
      "object_fit": null,
      "object_position": null,
      "order": null,
      "overflow": null,
      "overflow_x": null,
      "overflow_y": null,
      "padding": null,
      "right": null,
      "top": null,
      "visibility": null,
      "width": null
     }
    },
    "2f0de23bd3084a029613a2ddd592eaea": {
     "model_module": "@jupyter-widgets/base",
     "model_module_version": "1.2.0",
     "model_name": "LayoutModel",
     "state": {
      "_model_module": "@jupyter-widgets/base",
      "_model_module_version": "1.2.0",
      "_model_name": "LayoutModel",
      "_view_count": null,
      "_view_module": "@jupyter-widgets/base",
      "_view_module_version": "1.2.0",
      "_view_name": "LayoutView",
      "align_content": null,
      "align_items": null,
      "align_self": null,
      "border": null,
      "bottom": null,
      "display": null,
      "flex": null,
      "flex_flow": null,
      "grid_area": null,
      "grid_auto_columns": null,
      "grid_auto_flow": null,
      "grid_auto_rows": null,
      "grid_column": null,
      "grid_gap": null,
      "grid_row": null,
      "grid_template_areas": null,
      "grid_template_columns": null,
      "grid_template_rows": null,
      "height": null,
      "justify_content": null,
      "justify_items": null,
      "left": null,
      "margin": null,
      "max_height": null,
      "max_width": null,
      "min_height": null,
      "min_width": null,
      "object_fit": null,
      "object_position": null,
      "order": null,
      "overflow": null,
      "overflow_x": null,
      "overflow_y": null,
      "padding": null,
      "right": null,
      "top": null,
      "visibility": null,
      "width": null
     }
    },
    "423557024f1749e1b0f34f854c3c9eb7": {
     "model_module": "@jupyter-widgets/base",
     "model_module_version": "1.2.0",
     "model_name": "LayoutModel",
     "state": {
      "_model_module": "@jupyter-widgets/base",
      "_model_module_version": "1.2.0",
      "_model_name": "LayoutModel",
      "_view_count": null,
      "_view_module": "@jupyter-widgets/base",
      "_view_module_version": "1.2.0",
      "_view_name": "LayoutView",
      "align_content": null,
      "align_items": null,
      "align_self": null,
      "border": null,
      "bottom": null,
      "display": null,
      "flex": null,
      "flex_flow": null,
      "grid_area": null,
      "grid_auto_columns": null,
      "grid_auto_flow": null,
      "grid_auto_rows": null,
      "grid_column": null,
      "grid_gap": null,
      "grid_row": null,
      "grid_template_areas": null,
      "grid_template_columns": null,
      "grid_template_rows": null,
      "height": null,
      "justify_content": null,
      "justify_items": null,
      "left": null,
      "margin": null,
      "max_height": null,
      "max_width": null,
      "min_height": null,
      "min_width": null,
      "object_fit": null,
      "object_position": null,
      "order": null,
      "overflow": null,
      "overflow_x": null,
      "overflow_y": null,
      "padding": null,
      "right": null,
      "top": null,
      "visibility": null,
      "width": null
     }
    },
    "5521b56374fb4f0cb1c2ae40564153fc": {
     "model_module": "@jupyter-widgets/controls",
     "model_module_version": "1.5.0",
     "model_name": "DescriptionStyleModel",
     "state": {
      "_model_module": "@jupyter-widgets/controls",
      "_model_module_version": "1.5.0",
      "_model_name": "DescriptionStyleModel",
      "_view_count": null,
      "_view_module": "@jupyter-widgets/base",
      "_view_module_version": "1.2.0",
      "_view_name": "StyleView",
      "description_width": ""
     }
    },
    "57d8f2f0a008468b9faf76406aacb152": {
     "model_module": "@jupyter-widgets/controls",
     "model_module_version": "1.5.0",
     "model_name": "HBoxModel",
     "state": {
      "_dom_classes": [],
      "_model_module": "@jupyter-widgets/controls",
      "_model_module_version": "1.5.0",
      "_model_name": "HBoxModel",
      "_view_count": null,
      "_view_module": "@jupyter-widgets/controls",
      "_view_module_version": "1.5.0",
      "_view_name": "HBoxView",
      "box_style": "",
      "children": [
       "IPY_MODEL_eaf3ed187791457fb600bb457bd3e63c",
       "IPY_MODEL_e6b88e8f2e01450bbc836a155d2d034f",
       "IPY_MODEL_1b7e0c7ca4b349d289ffd3107b13f1a5"
      ],
      "layout": "IPY_MODEL_ecc250c231f54d2fad049c34ed565592"
     }
    },
    "5a1361b8edc94f53861bdbc3ced7e6e6": {
     "model_module": "@jupyter-widgets/controls",
     "model_module_version": "1.5.0",
     "model_name": "ProgressStyleModel",
     "state": {
      "_model_module": "@jupyter-widgets/controls",
      "_model_module_version": "1.5.0",
      "_model_name": "ProgressStyleModel",
      "_view_count": null,
      "_view_module": "@jupyter-widgets/base",
      "_view_module_version": "1.2.0",
      "_view_name": "StyleView",
      "bar_color": null,
      "description_width": ""
     }
    },
    "625202fec06a40e7877407bc921859dd": {
     "model_module": "@jupyter-widgets/base",
     "model_module_version": "1.2.0",
     "model_name": "LayoutModel",
     "state": {
      "_model_module": "@jupyter-widgets/base",
      "_model_module_version": "1.2.0",
      "_model_name": "LayoutModel",
      "_view_count": null,
      "_view_module": "@jupyter-widgets/base",
      "_view_module_version": "1.2.0",
      "_view_name": "LayoutView",
      "align_content": null,
      "align_items": null,
      "align_self": null,
      "border": null,
      "bottom": null,
      "display": null,
      "flex": null,
      "flex_flow": null,
      "grid_area": null,
      "grid_auto_columns": null,
      "grid_auto_flow": null,
      "grid_auto_rows": null,
      "grid_column": null,
      "grid_gap": null,
      "grid_row": null,
      "grid_template_areas": null,
      "grid_template_columns": null,
      "grid_template_rows": null,
      "height": null,
      "justify_content": null,
      "justify_items": null,
      "left": null,
      "margin": null,
      "max_height": null,
      "max_width": null,
      "min_height": null,
      "min_width": null,
      "object_fit": null,
      "object_position": null,
      "order": null,
      "overflow": null,
      "overflow_x": null,
      "overflow_y": null,
      "padding": null,
      "right": null,
      "top": null,
      "visibility": null,
      "width": null
     }
    },
    "6488c248867440789f406503d32fc3fe": {
     "model_module": "@jupyter-widgets/base",
     "model_module_version": "1.2.0",
     "model_name": "LayoutModel",
     "state": {
      "_model_module": "@jupyter-widgets/base",
      "_model_module_version": "1.2.0",
      "_model_name": "LayoutModel",
      "_view_count": null,
      "_view_module": "@jupyter-widgets/base",
      "_view_module_version": "1.2.0",
      "_view_name": "LayoutView",
      "align_content": null,
      "align_items": null,
      "align_self": null,
      "border": null,
      "bottom": null,
      "display": null,
      "flex": null,
      "flex_flow": null,
      "grid_area": null,
      "grid_auto_columns": null,
      "grid_auto_flow": null,
      "grid_auto_rows": null,
      "grid_column": null,
      "grid_gap": null,
      "grid_row": null,
      "grid_template_areas": null,
      "grid_template_columns": null,
      "grid_template_rows": null,
      "height": null,
      "justify_content": null,
      "justify_items": null,
      "left": null,
      "margin": null,
      "max_height": null,
      "max_width": null,
      "min_height": null,
      "min_width": null,
      "object_fit": null,
      "object_position": null,
      "order": null,
      "overflow": null,
      "overflow_x": null,
      "overflow_y": null,
      "padding": null,
      "right": null,
      "top": null,
      "visibility": null,
      "width": null
     }
    },
    "6fee7bd31d4e431696d8ee21acaf372d": {
     "model_module": "@jupyter-widgets/controls",
     "model_module_version": "1.5.0",
     "model_name": "ProgressStyleModel",
     "state": {
      "_model_module": "@jupyter-widgets/controls",
      "_model_module_version": "1.5.0",
      "_model_name": "ProgressStyleModel",
      "_view_count": null,
      "_view_module": "@jupyter-widgets/base",
      "_view_module_version": "1.2.0",
      "_view_name": "StyleView",
      "bar_color": null,
      "description_width": ""
     }
    },
    "734e55cddf0040098aebeef67c1b9616": {
     "model_module": "@jupyter-widgets/base",
     "model_module_version": "1.2.0",
     "model_name": "LayoutModel",
     "state": {
      "_model_module": "@jupyter-widgets/base",
      "_model_module_version": "1.2.0",
      "_model_name": "LayoutModel",
      "_view_count": null,
      "_view_module": "@jupyter-widgets/base",
      "_view_module_version": "1.2.0",
      "_view_name": "LayoutView",
      "align_content": null,
      "align_items": null,
      "align_self": null,
      "border": null,
      "bottom": null,
      "display": null,
      "flex": null,
      "flex_flow": null,
      "grid_area": null,
      "grid_auto_columns": null,
      "grid_auto_flow": null,
      "grid_auto_rows": null,
      "grid_column": null,
      "grid_gap": null,
      "grid_row": null,
      "grid_template_areas": null,
      "grid_template_columns": null,
      "grid_template_rows": null,
      "height": null,
      "justify_content": null,
      "justify_items": null,
      "left": null,
      "margin": null,
      "max_height": null,
      "max_width": null,
      "min_height": null,
      "min_width": null,
      "object_fit": null,
      "object_position": null,
      "order": null,
      "overflow": null,
      "overflow_x": null,
      "overflow_y": null,
      "padding": null,
      "right": null,
      "top": null,
      "visibility": null,
      "width": null
     }
    },
    "755f5ce4b5bf4cff91a1ae4909837561": {
     "model_module": "@jupyter-widgets/controls",
     "model_module_version": "1.5.0",
     "model_name": "DescriptionStyleModel",
     "state": {
      "_model_module": "@jupyter-widgets/controls",
      "_model_module_version": "1.5.0",
      "_model_name": "DescriptionStyleModel",
      "_view_count": null,
      "_view_module": "@jupyter-widgets/base",
      "_view_module_version": "1.2.0",
      "_view_name": "StyleView",
      "description_width": ""
     }
    },
    "8150f3cb16f84641ae77210778909c50": {
     "model_module": "@jupyter-widgets/controls",
     "model_module_version": "1.5.0",
     "model_name": "HBoxModel",
     "state": {
      "_dom_classes": [],
      "_model_module": "@jupyter-widgets/controls",
      "_model_module_version": "1.5.0",
      "_model_name": "HBoxModel",
      "_view_count": null,
      "_view_module": "@jupyter-widgets/controls",
      "_view_module_version": "1.5.0",
      "_view_name": "HBoxView",
      "box_style": "",
      "children": [
       "IPY_MODEL_e3b29c06fefc49209ebbe3cc3c0968a1",
       "IPY_MODEL_8419ec43b7ac492e98eee9f987a49b79",
       "IPY_MODEL_a82bbc7d99604777a9f7768e6a5d2229"
      ],
      "layout": "IPY_MODEL_8a9899138564441ebbb4a1c1ee8fdb30"
     }
    },
    "8419ec43b7ac492e98eee9f987a49b79": {
     "model_module": "@jupyter-widgets/controls",
     "model_module_version": "1.5.0",
     "model_name": "FloatProgressModel",
     "state": {
      "_dom_classes": [],
      "_model_module": "@jupyter-widgets/controls",
      "_model_module_version": "1.5.0",
      "_model_name": "FloatProgressModel",
      "_view_count": null,
      "_view_module": "@jupyter-widgets/controls",
      "_view_module_version": "1.5.0",
      "_view_name": "ProgressView",
      "bar_style": "success",
      "description": "",
      "description_tooltip": null,
      "layout": "IPY_MODEL_2f0de23bd3084a029613a2ddd592eaea",
      "max": 69,
      "min": 0,
      "orientation": "horizontal",
      "style": "IPY_MODEL_5a1361b8edc94f53861bdbc3ced7e6e6",
      "value": 69
     }
    },
    "8a9899138564441ebbb4a1c1ee8fdb30": {
     "model_module": "@jupyter-widgets/base",
     "model_module_version": "1.2.0",
     "model_name": "LayoutModel",
     "state": {
      "_model_module": "@jupyter-widgets/base",
      "_model_module_version": "1.2.0",
      "_model_name": "LayoutModel",
      "_view_count": null,
      "_view_module": "@jupyter-widgets/base",
      "_view_module_version": "1.2.0",
      "_view_name": "LayoutView",
      "align_content": null,
      "align_items": null,
      "align_self": null,
      "border": null,
      "bottom": null,
      "display": null,
      "flex": null,
      "flex_flow": null,
      "grid_area": null,
      "grid_auto_columns": null,
      "grid_auto_flow": null,
      "grid_auto_rows": null,
      "grid_column": null,
      "grid_gap": null,
      "grid_row": null,
      "grid_template_areas": null,
      "grid_template_columns": null,
      "grid_template_rows": null,
      "height": null,
      "justify_content": null,
      "justify_items": null,
      "left": null,
      "margin": null,
      "max_height": null,
      "max_width": null,
      "min_height": null,
      "min_width": null,
      "object_fit": null,
      "object_position": null,
      "order": null,
      "overflow": null,
      "overflow_x": null,
      "overflow_y": null,
      "padding": null,
      "right": null,
      "top": null,
      "visibility": null,
      "width": null
     }
    },
    "8fe360c0233e4c349ed83d4f64d4941a": {
     "model_module": "@jupyter-widgets/controls",
     "model_module_version": "1.5.0",
     "model_name": "DescriptionStyleModel",
     "state": {
      "_model_module": "@jupyter-widgets/controls",
      "_model_module_version": "1.5.0",
      "_model_name": "DescriptionStyleModel",
      "_view_count": null,
      "_view_module": "@jupyter-widgets/base",
      "_view_module_version": "1.2.0",
      "_view_name": "StyleView",
      "description_width": ""
     }
    },
    "9c467e6a53484671b4cd80b4d1827fd0": {
     "model_module": "@jupyter-widgets/base",
     "model_module_version": "1.2.0",
     "model_name": "LayoutModel",
     "state": {
      "_model_module": "@jupyter-widgets/base",
      "_model_module_version": "1.2.0",
      "_model_name": "LayoutModel",
      "_view_count": null,
      "_view_module": "@jupyter-widgets/base",
      "_view_module_version": "1.2.0",
      "_view_name": "LayoutView",
      "align_content": null,
      "align_items": null,
      "align_self": null,
      "border": null,
      "bottom": null,
      "display": null,
      "flex": null,
      "flex_flow": null,
      "grid_area": null,
      "grid_auto_columns": null,
      "grid_auto_flow": null,
      "grid_auto_rows": null,
      "grid_column": null,
      "grid_gap": null,
      "grid_row": null,
      "grid_template_areas": null,
      "grid_template_columns": null,
      "grid_template_rows": null,
      "height": null,
      "justify_content": null,
      "justify_items": null,
      "left": null,
      "margin": null,
      "max_height": null,
      "max_width": null,
      "min_height": null,
      "min_width": null,
      "object_fit": null,
      "object_position": null,
      "order": null,
      "overflow": null,
      "overflow_x": null,
      "overflow_y": null,
      "padding": null,
      "right": null,
      "top": null,
      "visibility": null,
      "width": null
     }
    },
    "a12090245e6545c48f9869ccbf7bbbfa": {
     "model_module": "@jupyter-widgets/controls",
     "model_module_version": "1.5.0",
     "model_name": "HTMLModel",
     "state": {
      "_dom_classes": [],
      "_model_module": "@jupyter-widgets/controls",
      "_model_module_version": "1.5.0",
      "_model_name": "HTMLModel",
      "_view_count": null,
      "_view_module": "@jupyter-widgets/controls",
      "_view_module_version": "1.5.0",
      "_view_name": "HTMLView",
      "description": "",
      "description_tooltip": null,
      "layout": "IPY_MODEL_734e55cddf0040098aebeef67c1b9616",
      "placeholder": "​",
      "style": "IPY_MODEL_5521b56374fb4f0cb1c2ae40564153fc",
      "value": "100%"
     }
    },
    "a7848a78822e407783e228816e3635f5": {
     "model_module": "@jupyter-widgets/controls",
     "model_module_version": "1.5.0",
     "model_name": "HBoxModel",
     "state": {
      "_dom_classes": [],
      "_model_module": "@jupyter-widgets/controls",
      "_model_module_version": "1.5.0",
      "_model_name": "HBoxModel",
      "_view_count": null,
      "_view_module": "@jupyter-widgets/controls",
      "_view_module_version": "1.5.0",
      "_view_name": "HBoxView",
      "box_style": "",
      "children": [
       "IPY_MODEL_a12090245e6545c48f9869ccbf7bbbfa",
       "IPY_MODEL_067b226cb0b3462e89b48f07817aabff",
       "IPY_MODEL_a8e493d559234d92b2c066e7fc540500"
      ],
      "layout": "IPY_MODEL_9c467e6a53484671b4cd80b4d1827fd0"
     }
    },
    "a82bbc7d99604777a9f7768e6a5d2229": {
     "model_module": "@jupyter-widgets/controls",
     "model_module_version": "1.5.0",
     "model_name": "HTMLModel",
     "state": {
      "_dom_classes": [],
      "_model_module": "@jupyter-widgets/controls",
      "_model_module_version": "1.5.0",
      "_model_name": "HTMLModel",
      "_view_count": null,
      "_view_module": "@jupyter-widgets/controls",
      "_view_module_version": "1.5.0",
      "_view_name": "HTMLView",
      "description": "",
      "description_tooltip": null,
      "layout": "IPY_MODEL_1e15652e4d6b4d38ad2606b856996eac",
      "placeholder": "​",
      "style": "IPY_MODEL_ff9fabec88df487b979d2f03fd02633b",
      "value": " 69/69 [00:04&lt;00:00, 15.59ba/s]"
     }
    },
    "a8e493d559234d92b2c066e7fc540500": {
     "model_module": "@jupyter-widgets/controls",
     "model_module_version": "1.5.0",
     "model_name": "HTMLModel",
     "state": {
      "_dom_classes": [],
      "_model_module": "@jupyter-widgets/controls",
      "_model_module_version": "1.5.0",
      "_model_name": "HTMLModel",
      "_view_count": null,
      "_view_module": "@jupyter-widgets/controls",
      "_view_module_version": "1.5.0",
      "_view_name": "HTMLView",
      "description": "",
      "description_tooltip": null,
      "layout": "IPY_MODEL_423557024f1749e1b0f34f854c3c9eb7",
      "placeholder": "​",
      "style": "IPY_MODEL_fb477c09b86d45ae889478bb76b3cfd4",
      "value": " 69/69 [00:04&lt;00:00, 15.32ba/s]"
     }
    },
    "ae58202f0d1946c69f5ad8af52e20dbe": {
     "model_module": "@jupyter-widgets/controls",
     "model_module_version": "1.5.0",
     "model_name": "DescriptionStyleModel",
     "state": {
      "_model_module": "@jupyter-widgets/controls",
      "_model_module_version": "1.5.0",
      "_model_name": "DescriptionStyleModel",
      "_view_count": null,
      "_view_module": "@jupyter-widgets/base",
      "_view_module_version": "1.2.0",
      "_view_name": "StyleView",
      "description_width": ""
     }
    },
    "b68c439b0c3e4341945980dd626afbd9": {
     "model_module": "@jupyter-widgets/controls",
     "model_module_version": "1.5.0",
     "model_name": "ProgressStyleModel",
     "state": {
      "_model_module": "@jupyter-widgets/controls",
      "_model_module_version": "1.5.0",
      "_model_name": "ProgressStyleModel",
      "_view_count": null,
      "_view_module": "@jupyter-widgets/base",
      "_view_module_version": "1.2.0",
      "_view_name": "StyleView",
      "bar_color": null,
      "description_width": ""
     }
    },
    "e3b29c06fefc49209ebbe3cc3c0968a1": {
     "model_module": "@jupyter-widgets/controls",
     "model_module_version": "1.5.0",
     "model_name": "HTMLModel",
     "state": {
      "_dom_classes": [],
      "_model_module": "@jupyter-widgets/controls",
      "_model_module_version": "1.5.0",
      "_model_name": "HTMLModel",
      "_view_count": null,
      "_view_module": "@jupyter-widgets/controls",
      "_view_module_version": "1.5.0",
      "_view_name": "HTMLView",
      "description": "",
      "description_tooltip": null,
      "layout": "IPY_MODEL_625202fec06a40e7877407bc921859dd",
      "placeholder": "​",
      "style": "IPY_MODEL_ae58202f0d1946c69f5ad8af52e20dbe",
      "value": "100%"
     }
    },
    "e6b88e8f2e01450bbc836a155d2d034f": {
     "model_module": "@jupyter-widgets/controls",
     "model_module_version": "1.5.0",
     "model_name": "FloatProgressModel",
     "state": {
      "_dom_classes": [],
      "_model_module": "@jupyter-widgets/controls",
      "_model_module_version": "1.5.0",
      "_model_name": "FloatProgressModel",
      "_view_count": null,
      "_view_module": "@jupyter-widgets/controls",
      "_view_module_version": "1.5.0",
      "_view_name": "ProgressView",
      "bar_style": "success",
      "description": "",
      "description_tooltip": null,
      "layout": "IPY_MODEL_1b2fcce366cf4097b4bfc550b37b48b4",
      "max": 69,
      "min": 0,
      "orientation": "horizontal",
      "style": "IPY_MODEL_6fee7bd31d4e431696d8ee21acaf372d",
      "value": 69
     }
    },
    "eaf3ed187791457fb600bb457bd3e63c": {
     "model_module": "@jupyter-widgets/controls",
     "model_module_version": "1.5.0",
     "model_name": "HTMLModel",
     "state": {
      "_dom_classes": [],
      "_model_module": "@jupyter-widgets/controls",
      "_model_module_version": "1.5.0",
      "_model_name": "HTMLModel",
      "_view_count": null,
      "_view_module": "@jupyter-widgets/controls",
      "_view_module_version": "1.5.0",
      "_view_name": "HTMLView",
      "description": "",
      "description_tooltip": null,
      "layout": "IPY_MODEL_f5dced9bfb864dd292d269738c4ce8de",
      "placeholder": "​",
      "style": "IPY_MODEL_755f5ce4b5bf4cff91a1ae4909837561",
      "value": "100%"
     }
    },
    "ecc250c231f54d2fad049c34ed565592": {
     "model_module": "@jupyter-widgets/base",
     "model_module_version": "1.2.0",
     "model_name": "LayoutModel",
     "state": {
      "_model_module": "@jupyter-widgets/base",
      "_model_module_version": "1.2.0",
      "_model_name": "LayoutModel",
      "_view_count": null,
      "_view_module": "@jupyter-widgets/base",
      "_view_module_version": "1.2.0",
      "_view_name": "LayoutView",
      "align_content": null,
      "align_items": null,
      "align_self": null,
      "border": null,
      "bottom": null,
      "display": null,
      "flex": null,
      "flex_flow": null,
      "grid_area": null,
      "grid_auto_columns": null,
      "grid_auto_flow": null,
      "grid_auto_rows": null,
      "grid_column": null,
      "grid_gap": null,
      "grid_row": null,
      "grid_template_areas": null,
      "grid_template_columns": null,
      "grid_template_rows": null,
      "height": null,
      "justify_content": null,
      "justify_items": null,
      "left": null,
      "margin": null,
      "max_height": null,
      "max_width": null,
      "min_height": null,
      "min_width": null,
      "object_fit": null,
      "object_position": null,
      "order": null,
      "overflow": null,
      "overflow_x": null,
      "overflow_y": null,
      "padding": null,
      "right": null,
      "top": null,
      "visibility": null,
      "width": null
     }
    },
    "f5dced9bfb864dd292d269738c4ce8de": {
     "model_module": "@jupyter-widgets/base",
     "model_module_version": "1.2.0",
     "model_name": "LayoutModel",
     "state": {
      "_model_module": "@jupyter-widgets/base",
      "_model_module_version": "1.2.0",
      "_model_name": "LayoutModel",
      "_view_count": null,
      "_view_module": "@jupyter-widgets/base",
      "_view_module_version": "1.2.0",
      "_view_name": "LayoutView",
      "align_content": null,
      "align_items": null,
      "align_self": null,
      "border": null,
      "bottom": null,
      "display": null,
      "flex": null,
      "flex_flow": null,
      "grid_area": null,
      "grid_auto_columns": null,
      "grid_auto_flow": null,
      "grid_auto_rows": null,
      "grid_column": null,
      "grid_gap": null,
      "grid_row": null,
      "grid_template_areas": null,
      "grid_template_columns": null,
      "grid_template_rows": null,
      "height": null,
      "justify_content": null,
      "justify_items": null,
      "left": null,
      "margin": null,
      "max_height": null,
      "max_width": null,
      "min_height": null,
      "min_width": null,
      "object_fit": null,
      "object_position": null,
      "order": null,
      "overflow": null,
      "overflow_x": null,
      "overflow_y": null,
      "padding": null,
      "right": null,
      "top": null,
      "visibility": null,
      "width": null
     }
    },
    "fb477c09b86d45ae889478bb76b3cfd4": {
     "model_module": "@jupyter-widgets/controls",
     "model_module_version": "1.5.0",
     "model_name": "DescriptionStyleModel",
     "state": {
      "_model_module": "@jupyter-widgets/controls",
      "_model_module_version": "1.5.0",
      "_model_name": "DescriptionStyleModel",
      "_view_count": null,
      "_view_module": "@jupyter-widgets/base",
      "_view_module_version": "1.2.0",
      "_view_name": "StyleView",
      "description_width": ""
     }
    },
    "ff9fabec88df487b979d2f03fd02633b": {
     "model_module": "@jupyter-widgets/controls",
     "model_module_version": "1.5.0",
     "model_name": "DescriptionStyleModel",
     "state": {
      "_model_module": "@jupyter-widgets/controls",
      "_model_module_version": "1.5.0",
      "_model_name": "DescriptionStyleModel",
      "_view_count": null,
      "_view_module": "@jupyter-widgets/base",
      "_view_module_version": "1.2.0",
      "_view_name": "StyleView",
      "description_width": ""
     }
    }
   }
  }
 },
 "nbformat": 4,
 "nbformat_minor": 1
}
